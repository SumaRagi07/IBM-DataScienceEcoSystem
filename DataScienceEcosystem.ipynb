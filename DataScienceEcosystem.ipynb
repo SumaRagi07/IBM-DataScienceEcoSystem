{
 "cells": [
  {
   "cell_type": "markdown",
   "id": "5c5ac784-47eb-47a0-baf9-2fb57081c07f",
   "metadata": {},
   "source": [
    "# Data Science Tools and Ecosystem"
   ]
  },
  {
   "cell_type": "markdown",
   "id": "b8ffa922-d0e8-43bc-88a2-d4ba43ddb9c7",
   "metadata": {},
   "source": [
    "In this notebook, Data Science Tools and Ecosystem are summarized.\n"
   ]
  },
  {
   "cell_type": "markdown",
   "id": "24048b67-37ca-4e70-acf5-0d6d38c1ef20",
   "metadata": {},
   "source": [
    "Some of the popular languages that Data Scientists use are:\n",
    "1. Python\n",
    "2. R\n",
    "3. SQL\n",
    "4. Scala\n",
    "5. Julia\n"
   ]
  },
  {
   "cell_type": "markdown",
   "id": "cd4f065b-f828-45d7-b8d6-fdf0abb27241",
   "metadata": {},
   "source": [
    "Some of the commonly used libraries used by Data Scientists include:\n",
    "1. Pandas\n",
    "2. NumPy\n",
    "3. Matplotlib\n",
    "4. Scikit-learn\n",
    "5. TensorFlow\n"
   ]
  },
  {
   "cell_type": "markdown",
   "id": "8d075a57-edeb-4859-b16d-09e57a4cc32a",
   "metadata": {},
   "source": [
    "| Data Science Tools |\n",
    "|--------------------|\n",
    "| Jupyter Notebook   |\n",
    "| RStudio            |\n",
    "| MySQL              |\n",
    "| PostgreSQL         |\n",
    "| MongoDB            |\n",
    "| Apache Kafka       |\n",
    "| PixieDust          |\n",
    "| Apache Spark       |\n"
   ]
  },
  {
   "cell_type": "markdown",
   "id": "61ea04df-cf55-4379-8b91-1aaacb5c467f",
   "metadata": {},
   "source": [
    "### Below are a few examples of evaluating arithmetic expressions in Python."
   ]
  },
  {
   "cell_type": "markdown",
   "id": "065d73fc-6600-4e6b-82eb-71b14d8110e7",
   "metadata": {},
   "source": [
    "This a simple arithmetic expression to multiply then add integers"
   ]
  },
  {
   "cell_type": "code",
   "execution_count": 4,
   "id": "e65b109f-a4ad-452a-b0c4-32076fe33a0e",
   "metadata": {
    "tags": []
   },
   "outputs": [
    {
     "data": {
      "text/plain": [
       "17"
      ]
     },
     "execution_count": 4,
     "metadata": {},
     "output_type": "execute_result"
    }
   ],
   "source": [
    "(3 * 4) + 5"
   ]
  },
  {
   "cell_type": "markdown",
   "id": "9a8f88f8-1480-4b6c-8967-4f245ed34fbc",
   "metadata": {},
   "source": [
    "This will convert 200 minutes to hours by dividing by 60"
   ]
  },
  {
   "cell_type": "code",
   "execution_count": 5,
   "id": "f8e8018b-d0ad-4b91-8193-8bea48f6d772",
   "metadata": {
    "tags": []
   },
   "outputs": [
    {
     "data": {
      "text/plain": [
       "3.3333333333333335"
      ]
     },
     "execution_count": 5,
     "metadata": {},
     "output_type": "execute_result"
    }
   ],
   "source": [
    "200 / 60"
   ]
  },
  {
   "cell_type": "markdown",
   "id": "8c3edcbb-63da-4573-85d0-a44cb655576a",
   "metadata": {},
   "source": [
    "**Objectives:**\n",
    "- List popular languages for Data Science\n",
    "- List commonly used libraries in Data Science\n",
    "- Demonstrate how to create markdown cells in Jupyter Notebook\n",
    "- Provide examples of basic arithmetic operations in Python\n"
   ]
  },
  {
   "cell_type": "markdown",
   "id": "84d71c20-d2ae-4d6a-902d-d8f94cd0f37c",
   "metadata": {
    "tags": []
   },
   "source": [
    "## Author\n",
    "Sumasree Ragi\n"
   ]
  },
  {
   "cell_type": "code",
   "execution_count": null,
   "id": "c3a1c7a5-9fe5-4560-b396-ce36039eaa47",
   "metadata": {},
   "outputs": [],
   "source": []
  }
 ],
 "metadata": {
  "kernelspec": {
   "display_name": "Python",
   "language": "python",
   "name": "conda-env-python-py"
  },
  "language_info": {
   "codemirror_mode": {
    "name": "ipython",
    "version": 3
   },
   "file_extension": ".py",
   "mimetype": "text/x-python",
   "name": "python",
   "nbconvert_exporter": "python",
   "pygments_lexer": "ipython3",
   "version": "3.7.12"
  }
 },
 "nbformat": 4,
 "nbformat_minor": 5
}
